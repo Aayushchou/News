{
  "nbformat": 4,
  "nbformat_minor": 0,
  "metadata": {
    "colab": {
      "name": "Text Summarization using BERT, GPT2,XLNET.ipynb",
      "provenance": [],
      "collapsed_sections": []
    },
    "kernelspec": {
      "name": "python3",
      "display_name": "Python 3"
    },
    "language_info": {
      "name": "python"
    },
    "accelerator": "GPU"
  },
  "cells": [
    {
      "cell_type": "code",
      "metadata": {
        "colab": {
          "base_uri": "https://localhost:8080/",
          "height": 0
        },
        "id": "P06w20oVdaHn",
        "outputId": "8c48c882-7157-4280-9440-24f5c7f27e10"
      },
      "source": [
        "!pip install bert-extractive-summarizer"
      ],
      "execution_count": 1,
      "outputs": [
        {
          "output_type": "stream",
          "text": [
            "Collecting bert-extractive-summarizer\n",
            "  Downloading https://files.pythonhosted.org/packages/1a/07/fdb05f9e18b6f641499ef56737126fbd2fafe1cdc1a04ba069d5aa205901/bert_extractive_summarizer-0.7.1-py3-none-any.whl\n",
            "Requirement already satisfied: scikit-learn in /usr/local/lib/python3.7/dist-packages (from bert-extractive-summarizer) (0.22.2.post1)\n",
            "Collecting transformers\n",
            "\u001b[?25l  Downloading https://files.pythonhosted.org/packages/d5/43/cfe4ee779bbd6a678ac6a97c5a5cdeb03c35f9eaebbb9720b036680f9a2d/transformers-4.6.1-py3-none-any.whl (2.2MB)\n",
            "\u001b[K     |████████████████████████████████| 2.3MB 16.4MB/s \n",
            "\u001b[?25hRequirement already satisfied: spacy in /usr/local/lib/python3.7/dist-packages (from bert-extractive-summarizer) (2.2.4)\n",
            "Requirement already satisfied: joblib>=0.11 in /usr/local/lib/python3.7/dist-packages (from scikit-learn->bert-extractive-summarizer) (1.0.1)\n",
            "Requirement already satisfied: numpy>=1.11.0 in /usr/local/lib/python3.7/dist-packages (from scikit-learn->bert-extractive-summarizer) (1.19.5)\n",
            "Requirement already satisfied: scipy>=0.17.0 in /usr/local/lib/python3.7/dist-packages (from scikit-learn->bert-extractive-summarizer) (1.4.1)\n",
            "Requirement already satisfied: tqdm>=4.27 in /usr/local/lib/python3.7/dist-packages (from transformers->bert-extractive-summarizer) (4.41.1)\n",
            "Requirement already satisfied: packaging in /usr/local/lib/python3.7/dist-packages (from transformers->bert-extractive-summarizer) (20.9)\n",
            "Requirement already satisfied: regex!=2019.12.17 in /usr/local/lib/python3.7/dist-packages (from transformers->bert-extractive-summarizer) (2019.12.20)\n",
            "Collecting tokenizers<0.11,>=0.10.1\n",
            "\u001b[?25l  Downloading https://files.pythonhosted.org/packages/d4/e2/df3543e8ffdab68f5acc73f613de9c2b155ac47f162e725dcac87c521c11/tokenizers-0.10.3-cp37-cp37m-manylinux_2_5_x86_64.manylinux1_x86_64.manylinux_2_12_x86_64.manylinux2010_x86_64.whl (3.3MB)\n",
            "\u001b[K     |████████████████████████████████| 3.3MB 35.2MB/s \n",
            "\u001b[?25hCollecting huggingface-hub==0.0.8\n",
            "  Downloading https://files.pythonhosted.org/packages/a1/88/7b1e45720ecf59c6c6737ff332f41c955963090a18e72acbcbeac6b25e86/huggingface_hub-0.0.8-py3-none-any.whl\n",
            "Collecting sacremoses\n",
            "\u001b[?25l  Downloading https://files.pythonhosted.org/packages/75/ee/67241dc87f266093c533a2d4d3d69438e57d7a90abb216fa076e7d475d4a/sacremoses-0.0.45-py3-none-any.whl (895kB)\n",
            "\u001b[K     |████████████████████████████████| 901kB 30.5MB/s \n",
            "\u001b[?25hRequirement already satisfied: importlib-metadata; python_version < \"3.8\" in /usr/local/lib/python3.7/dist-packages (from transformers->bert-extractive-summarizer) (4.0.1)\n",
            "Requirement already satisfied: filelock in /usr/local/lib/python3.7/dist-packages (from transformers->bert-extractive-summarizer) (3.0.12)\n",
            "Requirement already satisfied: requests in /usr/local/lib/python3.7/dist-packages (from transformers->bert-extractive-summarizer) (2.23.0)\n",
            "Requirement already satisfied: blis<0.5.0,>=0.4.0 in /usr/local/lib/python3.7/dist-packages (from spacy->bert-extractive-summarizer) (0.4.1)\n",
            "Requirement already satisfied: murmurhash<1.1.0,>=0.28.0 in /usr/local/lib/python3.7/dist-packages (from spacy->bert-extractive-summarizer) (1.0.5)\n",
            "Requirement already satisfied: thinc==7.4.0 in /usr/local/lib/python3.7/dist-packages (from spacy->bert-extractive-summarizer) (7.4.0)\n",
            "Requirement already satisfied: wasabi<1.1.0,>=0.4.0 in /usr/local/lib/python3.7/dist-packages (from spacy->bert-extractive-summarizer) (0.8.2)\n",
            "Requirement already satisfied: srsly<1.1.0,>=1.0.2 in /usr/local/lib/python3.7/dist-packages (from spacy->bert-extractive-summarizer) (1.0.5)\n",
            "Requirement already satisfied: catalogue<1.1.0,>=0.0.7 in /usr/local/lib/python3.7/dist-packages (from spacy->bert-extractive-summarizer) (1.0.0)\n",
            "Requirement already satisfied: setuptools in /usr/local/lib/python3.7/dist-packages (from spacy->bert-extractive-summarizer) (57.0.0)\n",
            "Requirement already satisfied: preshed<3.1.0,>=3.0.2 in /usr/local/lib/python3.7/dist-packages (from spacy->bert-extractive-summarizer) (3.0.5)\n",
            "Requirement already satisfied: plac<1.2.0,>=0.9.6 in /usr/local/lib/python3.7/dist-packages (from spacy->bert-extractive-summarizer) (1.1.3)\n",
            "Requirement already satisfied: cymem<2.1.0,>=2.0.2 in /usr/local/lib/python3.7/dist-packages (from spacy->bert-extractive-summarizer) (2.0.5)\n",
            "Requirement already satisfied: pyparsing>=2.0.2 in /usr/local/lib/python3.7/dist-packages (from packaging->transformers->bert-extractive-summarizer) (2.4.7)\n",
            "Requirement already satisfied: click in /usr/local/lib/python3.7/dist-packages (from sacremoses->transformers->bert-extractive-summarizer) (7.1.2)\n",
            "Requirement already satisfied: six in /usr/local/lib/python3.7/dist-packages (from sacremoses->transformers->bert-extractive-summarizer) (1.15.0)\n",
            "Requirement already satisfied: zipp>=0.5 in /usr/local/lib/python3.7/dist-packages (from importlib-metadata; python_version < \"3.8\"->transformers->bert-extractive-summarizer) (3.4.1)\n",
            "Requirement already satisfied: typing-extensions>=3.6.4; python_version < \"3.8\" in /usr/local/lib/python3.7/dist-packages (from importlib-metadata; python_version < \"3.8\"->transformers->bert-extractive-summarizer) (3.7.4.3)\n",
            "Requirement already satisfied: chardet<4,>=3.0.2 in /usr/local/lib/python3.7/dist-packages (from requests->transformers->bert-extractive-summarizer) (3.0.4)\n",
            "Requirement already satisfied: idna<3,>=2.5 in /usr/local/lib/python3.7/dist-packages (from requests->transformers->bert-extractive-summarizer) (2.10)\n",
            "Requirement already satisfied: urllib3!=1.25.0,!=1.25.1,<1.26,>=1.21.1 in /usr/local/lib/python3.7/dist-packages (from requests->transformers->bert-extractive-summarizer) (1.24.3)\n",
            "Requirement already satisfied: certifi>=2017.4.17 in /usr/local/lib/python3.7/dist-packages (from requests->transformers->bert-extractive-summarizer) (2020.12.5)\n",
            "Installing collected packages: tokenizers, huggingface-hub, sacremoses, transformers, bert-extractive-summarizer\n",
            "Successfully installed bert-extractive-summarizer-0.7.1 huggingface-hub-0.0.8 sacremoses-0.0.45 tokenizers-0.10.3 transformers-4.6.1\n"
          ],
          "name": "stdout"
        }
      ]
    },
    {
      "cell_type": "code",
      "metadata": {
        "colab": {
          "base_uri": "https://localhost:8080/",
          "height": 0
        },
        "id": "pnJ1Zos9dlja",
        "outputId": "9b28885c-6f2c-4884-c2c2-ee5126c1044d"
      },
      "source": [
        "!pip install transformers==2.2.0"
      ],
      "execution_count": 2,
      "outputs": [
        {
          "output_type": "stream",
          "text": [
            "Collecting transformers==2.2.0\n",
            "\u001b[?25l  Downloading https://files.pythonhosted.org/packages/ec/e7/0a1babead1b79afabb654fbec0a052e0d833ba4205a6dfd98b1aeda9c82e/transformers-2.2.0-py3-none-any.whl (360kB)\n",
            "\r\u001b[K     |█                               | 10kB 16.3MB/s eta 0:00:01\r\u001b[K     |█▉                              | 20kB 20.3MB/s eta 0:00:01\r\u001b[K     |██▊                             | 30kB 22.6MB/s eta 0:00:01\r\u001b[K     |███▋                            | 40kB 18.1MB/s eta 0:00:01\r\u001b[K     |████▌                           | 51kB 13.7MB/s eta 0:00:01\r\u001b[K     |█████▌                          | 61kB 10.5MB/s eta 0:00:01\r\u001b[K     |██████▍                         | 71kB 11.6MB/s eta 0:00:01\r\u001b[K     |███████▎                        | 81kB 12.0MB/s eta 0:00:01\r\u001b[K     |████████▏                       | 92kB 11.4MB/s eta 0:00:01\r\u001b[K     |█████████                       | 102kB 12.2MB/s eta 0:00:01\r\u001b[K     |██████████                      | 112kB 12.2MB/s eta 0:00:01\r\u001b[K     |███████████                     | 122kB 12.2MB/s eta 0:00:01\r\u001b[K     |███████████▉                    | 133kB 12.2MB/s eta 0:00:01\r\u001b[K     |████████████▊                   | 143kB 12.2MB/s eta 0:00:01\r\u001b[K     |█████████████▋                  | 153kB 12.2MB/s eta 0:00:01\r\u001b[K     |██████████████▌                 | 163kB 12.2MB/s eta 0:00:01\r\u001b[K     |███████████████▌                | 174kB 12.2MB/s eta 0:00:01\r\u001b[K     |████████████████▍               | 184kB 12.2MB/s eta 0:00:01\r\u001b[K     |█████████████████▎              | 194kB 12.2MB/s eta 0:00:01\r\u001b[K     |██████████████████▏             | 204kB 12.2MB/s eta 0:00:01\r\u001b[K     |███████████████████             | 215kB 12.2MB/s eta 0:00:01\r\u001b[K     |████████████████████            | 225kB 12.2MB/s eta 0:00:01\r\u001b[K     |█████████████████████           | 235kB 12.2MB/s eta 0:00:01\r\u001b[K     |█████████████████████▉          | 245kB 12.2MB/s eta 0:00:01\r\u001b[K     |██████████████████████▊         | 256kB 12.2MB/s eta 0:00:01\r\u001b[K     |███████████████████████▋        | 266kB 12.2MB/s eta 0:00:01\r\u001b[K     |████████████████████████▌       | 276kB 12.2MB/s eta 0:00:01\r\u001b[K     |█████████████████████████▍      | 286kB 12.2MB/s eta 0:00:01\r\u001b[K     |██████████████████████████▍     | 296kB 12.2MB/s eta 0:00:01\r\u001b[K     |███████████████████████████▎    | 307kB 12.2MB/s eta 0:00:01\r\u001b[K     |████████████████████████████▏   | 317kB 12.2MB/s eta 0:00:01\r\u001b[K     |█████████████████████████████   | 327kB 12.2MB/s eta 0:00:01\r\u001b[K     |██████████████████████████████  | 337kB 12.2MB/s eta 0:00:01\r\u001b[K     |███████████████████████████████ | 348kB 12.2MB/s eta 0:00:01\r\u001b[K     |███████████████████████████████▉| 358kB 12.2MB/s eta 0:00:01\r\u001b[K     |████████████████████████████████| 368kB 12.2MB/s \n",
            "\u001b[?25hRequirement already satisfied: sacremoses in /usr/local/lib/python3.7/dist-packages (from transformers==2.2.0) (0.0.45)\n",
            "Requirement already satisfied: requests in /usr/local/lib/python3.7/dist-packages (from transformers==2.2.0) (2.23.0)\n",
            "Requirement already satisfied: numpy in /usr/local/lib/python3.7/dist-packages (from transformers==2.2.0) (1.19.5)\n",
            "Requirement already satisfied: regex in /usr/local/lib/python3.7/dist-packages (from transformers==2.2.0) (2019.12.20)\n",
            "Requirement already satisfied: tqdm in /usr/local/lib/python3.7/dist-packages (from transformers==2.2.0) (4.41.1)\n",
            "Collecting sentencepiece\n",
            "\u001b[?25l  Downloading https://files.pythonhosted.org/packages/f5/99/e0808cb947ba10f575839c43e8fafc9cc44e4a7a2c8f79c60db48220a577/sentencepiece-0.1.95-cp37-cp37m-manylinux2014_x86_64.whl (1.2MB)\n",
            "\u001b[K     |████████████████████████████████| 1.2MB 23.3MB/s \n",
            "\u001b[?25hCollecting boto3\n",
            "\u001b[?25l  Downloading https://files.pythonhosted.org/packages/1e/c2/7091c0cbff9eeb4afb8ddf22ea2c5d6f27b0cfa5f207f5106b647b6614f4/boto3-1.17.88-py2.py3-none-any.whl (131kB)\n",
            "\u001b[K     |████████████████████████████████| 133kB 37.2MB/s \n",
            "\u001b[?25hRequirement already satisfied: click in /usr/local/lib/python3.7/dist-packages (from sacremoses->transformers==2.2.0) (7.1.2)\n",
            "Requirement already satisfied: joblib in /usr/local/lib/python3.7/dist-packages (from sacremoses->transformers==2.2.0) (1.0.1)\n",
            "Requirement already satisfied: six in /usr/local/lib/python3.7/dist-packages (from sacremoses->transformers==2.2.0) (1.15.0)\n",
            "Requirement already satisfied: urllib3!=1.25.0,!=1.25.1,<1.26,>=1.21.1 in /usr/local/lib/python3.7/dist-packages (from requests->transformers==2.2.0) (1.24.3)\n",
            "Requirement already satisfied: idna<3,>=2.5 in /usr/local/lib/python3.7/dist-packages (from requests->transformers==2.2.0) (2.10)\n",
            "Requirement already satisfied: chardet<4,>=3.0.2 in /usr/local/lib/python3.7/dist-packages (from requests->transformers==2.2.0) (3.0.4)\n",
            "Requirement already satisfied: certifi>=2017.4.17 in /usr/local/lib/python3.7/dist-packages (from requests->transformers==2.2.0) (2020.12.5)\n",
            "Collecting botocore<1.21.0,>=1.20.88\n",
            "\u001b[?25l  Downloading https://files.pythonhosted.org/packages/d8/d9/a22d370aba7cc0b454614f440f38c592b806c1903a451c8665811b4f58ad/botocore-1.20.88-py2.py3-none-any.whl (7.6MB)\n",
            "\u001b[K     |████████████████████████████████| 7.6MB 38.3MB/s \n",
            "\u001b[?25hCollecting jmespath<1.0.0,>=0.7.1\n",
            "  Downloading https://files.pythonhosted.org/packages/07/cb/5f001272b6faeb23c1c9e0acc04d48eaaf5c862c17709d20e3469c6e0139/jmespath-0.10.0-py2.py3-none-any.whl\n",
            "Collecting s3transfer<0.5.0,>=0.4.0\n",
            "\u001b[?25l  Downloading https://files.pythonhosted.org/packages/63/d0/693477c688348654ddc21dcdce0817653a294aa43f41771084c25e7ff9c7/s3transfer-0.4.2-py2.py3-none-any.whl (79kB)\n",
            "\u001b[K     |████████████████████████████████| 81kB 9.1MB/s \n",
            "\u001b[?25hRequirement already satisfied: python-dateutil<3.0.0,>=2.1 in /usr/local/lib/python3.7/dist-packages (from botocore<1.21.0,>=1.20.88->boto3->transformers==2.2.0) (2.8.1)\n",
            "\u001b[31mERROR: botocore 1.20.88 has requirement urllib3<1.27,>=1.25.4, but you'll have urllib3 1.24.3 which is incompatible.\u001b[0m\n",
            "Installing collected packages: sentencepiece, jmespath, botocore, s3transfer, boto3, transformers\n",
            "  Found existing installation: transformers 4.6.1\n",
            "    Uninstalling transformers-4.6.1:\n",
            "      Successfully uninstalled transformers-4.6.1\n",
            "Successfully installed boto3-1.17.88 botocore-1.20.88 jmespath-0.10.0 s3transfer-0.4.2 sentencepiece-0.1.95 transformers-2.2.0\n"
          ],
          "name": "stdout"
        }
      ]
    },
    {
      "cell_type": "code",
      "metadata": {
        "colab": {
          "base_uri": "https://localhost:8080/",
          "height": 0
        },
        "id": "ikwMl426d6Ul",
        "outputId": "76669ffa-4a6a-47ac-ab82-d2e16c4f0312"
      },
      "source": [
        "!pip install spacy"
      ],
      "execution_count": 3,
      "outputs": [
        {
          "output_type": "stream",
          "text": [
            "Requirement already satisfied: spacy in /usr/local/lib/python3.7/dist-packages (2.2.4)\n",
            "Requirement already satisfied: plac<1.2.0,>=0.9.6 in /usr/local/lib/python3.7/dist-packages (from spacy) (1.1.3)\n",
            "Requirement already satisfied: requests<3.0.0,>=2.13.0 in /usr/local/lib/python3.7/dist-packages (from spacy) (2.23.0)\n",
            "Requirement already satisfied: thinc==7.4.0 in /usr/local/lib/python3.7/dist-packages (from spacy) (7.4.0)\n",
            "Requirement already satisfied: wasabi<1.1.0,>=0.4.0 in /usr/local/lib/python3.7/dist-packages (from spacy) (0.8.2)\n",
            "Requirement already satisfied: blis<0.5.0,>=0.4.0 in /usr/local/lib/python3.7/dist-packages (from spacy) (0.4.1)\n",
            "Requirement already satisfied: preshed<3.1.0,>=3.0.2 in /usr/local/lib/python3.7/dist-packages (from spacy) (3.0.5)\n",
            "Requirement already satisfied: tqdm<5.0.0,>=4.38.0 in /usr/local/lib/python3.7/dist-packages (from spacy) (4.41.1)\n",
            "Requirement already satisfied: setuptools in /usr/local/lib/python3.7/dist-packages (from spacy) (57.0.0)\n",
            "Requirement already satisfied: srsly<1.1.0,>=1.0.2 in /usr/local/lib/python3.7/dist-packages (from spacy) (1.0.5)\n",
            "Requirement already satisfied: catalogue<1.1.0,>=0.0.7 in /usr/local/lib/python3.7/dist-packages (from spacy) (1.0.0)\n",
            "Requirement already satisfied: cymem<2.1.0,>=2.0.2 in /usr/local/lib/python3.7/dist-packages (from spacy) (2.0.5)\n",
            "Requirement already satisfied: murmurhash<1.1.0,>=0.28.0 in /usr/local/lib/python3.7/dist-packages (from spacy) (1.0.5)\n",
            "Requirement already satisfied: numpy>=1.15.0 in /usr/local/lib/python3.7/dist-packages (from spacy) (1.19.5)\n",
            "Requirement already satisfied: urllib3!=1.25.0,!=1.25.1,<1.26,>=1.21.1 in /usr/local/lib/python3.7/dist-packages (from requests<3.0.0,>=2.13.0->spacy) (1.24.3)\n",
            "Requirement already satisfied: idna<3,>=2.5 in /usr/local/lib/python3.7/dist-packages (from requests<3.0.0,>=2.13.0->spacy) (2.10)\n",
            "Requirement already satisfied: certifi>=2017.4.17 in /usr/local/lib/python3.7/dist-packages (from requests<3.0.0,>=2.13.0->spacy) (2020.12.5)\n",
            "Requirement already satisfied: chardet<4,>=3.0.2 in /usr/local/lib/python3.7/dist-packages (from requests<3.0.0,>=2.13.0->spacy) (3.0.4)\n",
            "Requirement already satisfied: importlib-metadata>=0.20; python_version < \"3.8\" in /usr/local/lib/python3.7/dist-packages (from catalogue<1.1.0,>=0.0.7->spacy) (4.0.1)\n",
            "Requirement already satisfied: typing-extensions>=3.6.4; python_version < \"3.8\" in /usr/local/lib/python3.7/dist-packages (from importlib-metadata>=0.20; python_version < \"3.8\"->catalogue<1.1.0,>=0.0.7->spacy) (3.7.4.3)\n",
            "Requirement already satisfied: zipp>=0.5 in /usr/local/lib/python3.7/dist-packages (from importlib-metadata>=0.20; python_version < \"3.8\"->catalogue<1.1.0,>=0.0.7->spacy) (3.4.1)\n"
          ],
          "name": "stdout"
        }
      ]
    },
    {
      "cell_type": "code",
      "metadata": {
        "id": "tkYxe1FpeHIk"
      },
      "source": [
        "from summarizer import Summarizer,TransformerSummarizer"
      ],
      "execution_count": 4,
      "outputs": []
    },
    {
      "cell_type": "code",
      "metadata": {
        "id": "_S-l8K6kffiV"
      },
      "source": [
        "body = '''\n",
        "In the first action, which we took last summer against Commerzbank AG’s London branch, we imposed a fine of £37.8 million. Commerzbank London provided products and transaction platforms for many of the bank’s global customers. It was also a hub for sales, trading and due diligence processes for many of the bank’s global customers. We found that for over 5 years the bank failed to have effective policies and procedures in place to identify, assess, monitor and manage money laundering risks. In particular, we found:\n",
        "\n",
        "some parts of the bank’s operations failed to verify beneficial ownership details, including in relation to high risk clients, from a reliable source\n",
        "processes for identifying risks with politically exposed persons were inadequate\n",
        "there was no clear process or criteria for terminating a relationship with a customer based on financial crime risks; and\n",
        "there were substantial and unjustifiable backlogs in conducting refreshed know your client checks. In October 2016, 1,720 new clients were in a 'huge backlog' awaiting to be onboarded. At this point the bank had only three staff engaged in this task. By February 2017, the backlogs had increased, and 2,226 existing clients were overdue refreshed KYC checks.\n",
        "These failings contributed to additional problems because automated systems lacked up to date information which in turn meant they became less reliable and effective. The catalogue of failures meant investment in systems and controls was wasted on measures that were unable to function as they had been designed or purposed. \n",
        "\n",
        "In the second case, together with the PRA, we imposed a fine of £96.6 million on Goldman Sachs International (Goldman Sachs) in relation to three bond transactions which Goldman Sachs arranged for 1MDB, a Malaysian state-owned entity associated with serious embezzlement allegations. Goldman Sachs was the primary booking entity for these transactions which were negotiated by a deal team based in Asia. The bond issuances had several red flags, none of which were especially hard to spot:\n",
        "\n",
        "They were very large transactions compressed into tight timetables.\n",
        "They involved jurisdictions which Goldman Sachs already considered had high risks.\n",
        "Goldman Sachs possessed information about a third party whom they considered was high risk and who was said to be closely associated with the transactions. \n",
        "The FCA found these risks were not adequately explored or considered holistically when approving the bond transactions.\n",
        "\n",
        "Instead, overreliance was placed on statements of the deal team, who had an evident interest in proceeding with the transactions, to the effect that the third party had no role, despite inconsistent accounts being provided by a senior member of the deal team about the third party’s involvement in the first 1MDB bond transaction. The risk of the third party’s involvement was not even raised in the documentation that went before the committees approving the 1MDB Transactions.\n",
        "\n",
        "Moreover, the approving committees failed to assess the relevant risks factors either individually or in aggregate when approving the transactions or they were not provided with all the information that was available to enable that to happen. This meant significant reputational and financial crime risks were effectively ignored or censored from the approval process. \n",
        "\n",
        "A significant failure in this case involved the absence of proper record keeping of the identification, management and assessment of the substantial and evident risks involved in the transaction. Record-keeping is a vitally important part of effective governance. It is more than just a minuting of what has happened or being decided but helps to ensure there is an effective and purposeful discipline over the decision-making process.\n",
        "\n",
        "One of the dilemmas of white-collar crime is the victim is too often either invisible or, in some cases, like insider dealing, believed, wrongly, not to really exist, which means the wrongdoer is more easily able to commit a crime in which real harm is never felt, seen or experienced directly. So too if the potential impact is not on ‘your street’ or in ‘your country’.\n",
        "\n",
        "There is a version of this in relation to systems and controls, especially if they become a bureaucratic insulation, attenuating the system from the gritty reality of the predicate criminality that needs to be inhibited.\n",
        "\n",
        "And, for the purposes of AML controls, the risks are not limited to white collar crime, extending to the proceeds of all criminal proceeds, from drug trafficking to terrorist financing. While the harm from such crimes may be difficult to feel or appreciate, because the distance between fund flows and the scene of the crime is so attenuated, the consequences of AML failures may well be a life and death matter.\n",
        "\n",
        "These cases demonstrate both the value and challenge of systems and controls. On one hand, effective AML systems create a control environment that is able to identify valuable signals in complex data, with repeatable interrogations geared to specific and reasonably foreseeable crime risks, to ensure decision-making is calibrated to those risks and to record accurately how those risks have been addressed.\n",
        "\n",
        "On the other hand, systems can become overly complicated, bureaucratised, vulnerable to gaming by less scrupulous players, and expensive. \n",
        "\n",
        "There is an inherent risk that complex systems lose a sense of what they exist for, where the management challenge to maintain the system, becomes an end in itself, rather than the system or control acting as radar to identify and manage the actual risks facing financial services firms. \n",
        "\n",
        "AML systems and controls must be focussed explicitly on the activating purpose and function of those controls, to ensure the system is not just a bureaucratic process and to ensure it cannot be gamed.\n",
        "\n",
        "We currently we have 42 AML investigations ongoing into firms and individuals (25 are investigations into firms and 17 are investigations into individuals), involving, for example, systems and controls over politically exposed persons, customers with significant cash intensive operations, correspondent banking and trade finance, and transaction monitoring. \n",
        "\n",
        "These are often complex investigations because they are rarely transactional; they require a systemic understanding of how a firm operates, its governance controls, its cultural habits – all of which can generate terabytes of data and information - as well as the nuts and bolts of sometimes opaque systems.\n",
        "\n",
        "Let me now turn to a couple of specific AML risks that have arisen over the last 12 months.\n",
        "\n",
        "First, as has been reported elsewhere, we have increased our surveillance of online investment promotions targeting offers from unauthorised issuers without FSMA approvals, potential investment scams and other too good to be true promotions, including lead generation sites. \n",
        "\n",
        "A number of these sites are under investigation or have become the subject of proceedings.\n",
        "\n",
        "We have also issued alerts on our Warning List concerning well over 1,000 firms, an increase of over 100% on 2019.\n",
        "\n",
        "The Warning List is designed to prevent consumers dealing with firms that appear they should be authorised by us but are not or falling for investment scams without undertaking proper checks. We are now able to detect these sites, check them out and issue warnings, where appropriate, much more quickly than before.\n",
        "\n",
        "While the aim is to provide a means for consumers to protect themselves, the same list should also be used by firms. How many firms on our Warning List have bank accounts? How many are the subject of suspicious activity reports?\n",
        "\n",
        "We would like to see our Warning List actively used, not only by consumers, but also by authorised firms seeking to ensure any transactions or transfers of funds by or to such firms are properly scrutinised and, where applicable, the subject of suspicious activity reports or other reports to the NCA and the FCA.\n",
        "\n",
        "The second area of risk relates to cryptocurrency firms. As from 10 January 2021, the FCA is the AML supervisor of cryptocurrency firms. While we do not regulate or supervise the cryptocurrency business, these firms are required to be registered with the FCA and they are required to comply with the Money Laundering Regulations.\n",
        "\n",
        "We have now developed a version of the Warning List, called the Unregistered Cryptocurrency Businesses List, to help consumers and FCA authorised firms identify cryptocurrency firms that appear to be carrying on business in the UK but are not registered with the FCA or sought such registration. \n",
        "\n",
        "We placed the first names on the Unregistered Cryptocurrency Businesses List earlier this month, all crypto ATM firms, and we have just added 29 crypto custodian wallet providers to the list.\n",
        "\n",
        "Without commenting on what other steps may be taken to enforce the new obligations, appearing on the list should be a warning for FCA authorised firms, including any banks who may be providing banking services to these firms, as well as consumers.\n",
        "\n",
        "We would like to see the Unregistered Cryptocurrency Businesses List used in the same way as the Warning List, to safeguard consumers, as well as to ensure any transactions or transfers of funds by or to such firms are properly scrutinised and, where applicable, the subject of suspicious activity reports or other reports to the NCA and the FCA.\n",
        "\n",
        "We know much of the industry is devoted to strong systems and controls in relation to AML. Indeed, the aim of AML regulation is not to catch anyone out but to set high standards of probity and scrutiny to inhibit illicit money flows in the financial system and to encourage participants in the system to behave as custodians and guardians of the public interest in preventing money laundering.\n",
        "\n",
        "\n",
        "'''"
      ],
      "execution_count": 5,
      "outputs": []
    },
    {
      "cell_type": "code",
      "metadata": {
        "colab": {
          "base_uri": "https://localhost:8080/",
          "height": 0
        },
        "id": "Y7qZlFLqg2a7",
        "outputId": "df4ce7c0-71c9-406d-f7a9-9f4e4a831f6d"
      },
      "source": [
        "bert_model = Summarizer()\n",
        "bert_summary = ''.join(bert_model(body, min_length=60))\n",
        "print(bert_summary)"
      ],
      "execution_count": 6,
      "outputs": [
        {
          "output_type": "stream",
          "text": [
            "100%|██████████| 434/434 [00:00<00:00, 94307.74B/s]\n",
            "100%|██████████| 1344997306/1344997306 [00:44<00:00, 30404592.75B/s]\n",
            "100%|██████████| 231508/231508 [00:00<00:00, 692930.74B/s]\n"
          ],
          "name": "stderr"
        },
        {
          "output_type": "stream",
          "text": [
            "In the first action, which we took last summer against Commerzbank AG’s London branch, we imposed a fine of £37.8 million. In October 2016, 1,720 new clients were in a 'huge backlog' awaiting to be onboarded. At this point the bank had only three staff engaged in this task. The catalogue of failures meant investment in systems and controls was wasted on measures that were unable to function as they had been designed or purposed. The risk of the third party’s involvement was not even raised in the documentation that went before the committees approving the 1MDB Transactions. A significant failure in this case involved the absence of proper record keeping of the identification, management and assessment of the substantial and evident risks involved in the transaction. Record-keeping is a vitally important part of effective governance. There is a version of this in relation to systems and controls, especially if they become a bureaucratic insulation, attenuating the system from the gritty reality of the predicate criminality that needs to be inhibited. On one hand, effective AML systems create a control environment that is able to identify valuable signals in complex data, with repeatable interrogations geared to specific and reasonably foreseeable crime risks, to ensure decision-making is calibrated to those risks and to record accurately how those risks have been addressed. On the other hand, systems can become overly complicated, bureaucratised, vulnerable to gaming by less scrupulous players, and expensive. The Warning List is designed to prevent consumers dealing with firms that appear they should be authorised by us but are not or falling for investment scams without undertaking proper checks.\n"
          ],
          "name": "stdout"
        }
      ]
    },
    {
      "cell_type": "code",
      "metadata": {
        "colab": {
          "base_uri": "https://localhost:8080/",
          "height": 0
        },
        "id": "BRlVvp4Ug-PF",
        "outputId": "43c21ce0-d384-4d1a-d962-149cd83f0853"
      },
      "source": [
        "GPT2_model = TransformerSummarizer(transformer_type=\"GPT2\",transformer_model_key=\"gpt2-medium\")\n",
        "full = ''.join(GPT2_model(body, min_length=60))\n",
        "print(full)"
      ],
      "execution_count": 7,
      "outputs": [
        {
          "output_type": "stream",
          "text": [
            "100%|██████████| 718/718 [00:00<00:00, 126939.40B/s]\n",
            "100%|██████████| 1520013706/1520013706 [00:56<00:00, 26899995.39B/s]\n",
            "100%|██████████| 1042301/1042301 [00:00<00:00, 2075404.38B/s]\n",
            "100%|██████████| 456318/456318 [00:00<00:00, 1123368.25B/s]\n"
          ],
          "name": "stderr"
        },
        {
          "output_type": "stream",
          "text": [
            "In the first action, which we took last summer against Commerzbank AG’s London branch, we imposed a fine of £37.8 million. Commerzbank London provided products and transaction platforms for many of the bank’s global customers. At this point the bank had only three staff engaged in this task. Goldman Sachs was the primary booking entity for these transactions which were negotiated by a deal team based in Asia. The risk of the third party’s involvement was not even raised in the documentation that went before the committees approving the 1MDB Transactions. Record-keeping is a vitally important part of effective governance. There is a version of this in relation to systems and controls, especially if they become a bureaucratic insulation, attenuating the system from the gritty reality of the predicate criminality that needs to be inhibited. And, for the purposes of AML controls, the risks are not limited to white collar crime, extending to the proceeds of all criminal proceeds, from drug trafficking to terrorist financing. These are often complex investigations because they are rarely transactional; they require a systemic understanding of how a firm operates, its governance controls, its cultural habits – all of which can generate terabytes of data and information - as well as the nuts and bolts of sometimes opaque systems. A number of these sites are under investigation or have become the subject of proceedings. We would like to see the Unregistered Cryptocurrency Businesses List used in the same way as the Warning List, to safeguard consumers, as well as to ensure any transactions or transfers of funds by or to such firms are properly scrutinised and, where applicable, the subject of suspicious activity reports or other reports to the NCA and the FCA.\n"
          ],
          "name": "stdout"
        }
      ]
    },
    {
      "cell_type": "code",
      "metadata": {
        "colab": {
          "base_uri": "https://localhost:8080/",
          "height": 0
        },
        "id": "OE0HzUQ_jtOU",
        "outputId": "6d422822-54b5-4c6d-c802-2ea050b03db2"
      },
      "source": [
        "model = TransformerSummarizer(transformer_type=\"XLNet\",transformer_model_key=\"xlnet-base-cased\")\n",
        "full = ''.join(model(body, min_length=60))\n",
        "print(full)"
      ],
      "execution_count": 8,
      "outputs": [
        {
          "output_type": "stream",
          "text": [
            "100%|██████████| 760/760 [00:00<00:00, 288424.81B/s]\n",
            "100%|██████████| 467042463/467042463 [00:16<00:00, 28622459.16B/s]\n",
            "100%|██████████| 798011/798011 [00:00<00:00, 1605126.24B/s]\n"
          ],
          "name": "stderr"
        },
        {
          "output_type": "stream",
          "text": [
            "In the first action, which we took last summer against Commerzbank AG’s London branch, we imposed a fine of £37.8 million. At this point the bank had only three staff engaged in this task. These failings contributed to additional problems because automated systems lacked up to date information which in turn meant they became less reliable and effective. Goldman Sachs was the primary booking entity for these transactions which were negotiated by a deal team based in Asia. They involved jurisdictions which Goldman Sachs already considered had high risks. This meant significant reputational and financial crime risks were effectively ignored or censored from the approval process. These cases demonstrate both the value and challenge of systems and controls. We have also issued alerts on our Warning List concerning well over 1,000 firms, an increase of over 100% on 2019. We would like to see the Unregistered Cryptocurrency Businesses List used in the same way as the Warning List, to safeguard consumers, as well as to ensure any transactions or transfers of funds by or to such firms are properly scrutinised and, where applicable, the subject of suspicious activity reports or other reports to the NCA and the FCA. We know much of the industry is devoted to strong systems and controls in relation to AML. Indeed, the aim of AML regulation is not to catch anyone out but to set high standards of probity and scrutiny to inhibit illicit money flows in the financial system and to encourage participants in the system to behave as custodians and guardians of the public interest in preventing money laundering.\n"
          ],
          "name": "stdout"
        }
      ]
    },
    {
      "cell_type": "code",
      "metadata": {
        "id": "HY0UM4W8l53k"
      },
      "source": [
        ""
      ],
      "execution_count": 8,
      "outputs": []
    }
  ]
}